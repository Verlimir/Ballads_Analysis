{
 "cells": [
  {
   "cell_type": "code",
   "execution_count": 23,
   "id": "5e05eded",
   "metadata": {},
   "outputs": [],
   "source": [
    "import pandas as pd"
   ]
  },
  {
   "cell_type": "code",
   "execution_count": 24,
   "id": "851c9b5d",
   "metadata": {
    "scrolled": true
   },
   "outputs": [
    {
     "data": {
      "text/html": [
       "<div>\n",
       "<style scoped>\n",
       "    .dataframe tbody tr th:only-of-type {\n",
       "        vertical-align: middle;\n",
       "    }\n",
       "\n",
       "    .dataframe tbody tr th {\n",
       "        vertical-align: top;\n",
       "    }\n",
       "\n",
       "    .dataframe thead th {\n",
       "        text-align: right;\n",
       "    }\n",
       "</style>\n",
       "<table border=\"1\" class=\"dataframe\">\n",
       "  <thead>\n",
       "    <tr style=\"text-align: right;\">\n",
       "      <th></th>\n",
       "      <th>id</th>\n",
       "      <th>signature</th>\n",
       "      <th>author</th>\n",
       "      <th>title</th>\n",
       "      <th>first_line</th>\n",
       "      <th>genre_subtitle</th>\n",
       "      <th>source_name</th>\n",
       "      <th>place</th>\n",
       "      <th>year</th>\n",
       "      <th>volume</th>\n",
       "      <th>...</th>\n",
       "      <th>regularity</th>\n",
       "      <th>claus</th>\n",
       "      <th>rhyme</th>\n",
       "      <th>graphic_stanzas</th>\n",
       "      <th>stanza_model</th>\n",
       "      <th>stanza_type</th>\n",
       "      <th>other</th>\n",
       "      <th>nlines</th>\n",
       "      <th>narrator</th>\n",
       "      <th>dir_speech</th>\n",
       "    </tr>\n",
       "  </thead>\n",
       "  <tbody>\n",
       "    <tr>\n",
       "      <th>0</th>\n",
       "      <td>1_1840_Alekseyev.txt</td>\n",
       "      <td>NaN</td>\n",
       "      <td>Алексеев П.Ф.</td>\n",
       "      <td>Могила</td>\n",
       "      <td>Во сыром бору могила</td>\n",
       "      <td>баллада</td>\n",
       "      <td>Лирические стихотворения и сказки П. Ф. Алексеева</td>\n",
       "      <td>Дерпт</td>\n",
       "      <td>1840</td>\n",
       "      <td>NaN</td>\n",
       "      <td>...</td>\n",
       "      <td>reg</td>\n",
       "      <td>жжмм</td>\n",
       "      <td>rhymed</td>\n",
       "      <td>True</td>\n",
       "      <td>Х4AAbb</td>\n",
       "      <td>катрен</td>\n",
       "      <td>NaN</td>\n",
       "      <td>44</td>\n",
       "      <td>heterodiegetic</td>\n",
       "      <td>True</td>\n",
       "    </tr>\n",
       "    <tr>\n",
       "      <th>1</th>\n",
       "      <td>2_1840_Alekseyev.txt</td>\n",
       "      <td>NaN</td>\n",
       "      <td>Алексеев П.Ф.</td>\n",
       "      <td>Наяда</td>\n",
       "      <td>В серебре живом каскада</td>\n",
       "      <td>NaN</td>\n",
       "      <td>Лирические стихотворения и сказки П. Ф. Алексеева</td>\n",
       "      <td>Дерпт</td>\n",
       "      <td>1840</td>\n",
       "      <td>NaN</td>\n",
       "      <td>...</td>\n",
       "      <td>reg</td>\n",
       "      <td>жжмжжм</td>\n",
       "      <td>rhymed</td>\n",
       "      <td>False</td>\n",
       "      <td>Х4AAbCCb</td>\n",
       "      <td>шестистишие</td>\n",
       "      <td>NaN</td>\n",
       "      <td>12</td>\n",
       "      <td>homodiegetic</td>\n",
       "      <td>False</td>\n",
       "    </tr>\n",
       "    <tr>\n",
       "      <th>2</th>\n",
       "      <td>3_1840_Alekseyev.txt</td>\n",
       "      <td>NaN</td>\n",
       "      <td>Алексеев П.Ф.</td>\n",
       "      <td>Разбойник</td>\n",
       "      <td>Ночь, чернее угля с сажей</td>\n",
       "      <td>NaN</td>\n",
       "      <td>Лирические стихотворения и сказки П. Ф. Алексеева</td>\n",
       "      <td>Дерпт</td>\n",
       "      <td>1840</td>\n",
       "      <td>NaN</td>\n",
       "      <td>...</td>\n",
       "      <td>reg</td>\n",
       "      <td>ж-м</td>\n",
       "      <td>rhymed</td>\n",
       "      <td>False</td>\n",
       "      <td>unreg</td>\n",
       "      <td>вольная рифмовка</td>\n",
       "      <td>NaN</td>\n",
       "      <td>42</td>\n",
       "      <td>heterodiegetic</td>\n",
       "      <td>True</td>\n",
       "    </tr>\n",
       "    <tr>\n",
       "      <th>3</th>\n",
       "      <td>4_1840_Alekseyev.txt</td>\n",
       "      <td>NaN</td>\n",
       "      <td>Алексеев П.Ф.</td>\n",
       "      <td>Ночной ездок</td>\n",
       "      <td>Над безмолвною пустыней</td>\n",
       "      <td>баллада</td>\n",
       "      <td>Лирические стихотворения и сказки П. Ф. Алексеева</td>\n",
       "      <td>Дерпт</td>\n",
       "      <td>1840</td>\n",
       "      <td>NaN</td>\n",
       "      <td>...</td>\n",
       "      <td>reg</td>\n",
       "      <td>жмжм</td>\n",
       "      <td>rhymed</td>\n",
       "      <td>True</td>\n",
       "      <td>Х4AbAb</td>\n",
       "      <td>катрен</td>\n",
       "      <td>рефрен (строфы)</td>\n",
       "      <td>36</td>\n",
       "      <td>heterodiegetic</td>\n",
       "      <td>False</td>\n",
       "    </tr>\n",
       "    <tr>\n",
       "      <th>4</th>\n",
       "      <td>5_1840_Demidov.txt</td>\n",
       "      <td>NaN</td>\n",
       "      <td>Демидов М. А.</td>\n",
       "      <td>Званые гости</td>\n",
       "      <td>Близ Ревеля рыцарь Гогаузен жил</td>\n",
       "      <td>NaN</td>\n",
       "      <td>Дельные безделки. Стихотворения М. Демидова. В...</td>\n",
       "      <td>М.</td>\n",
       "      <td>1840</td>\n",
       "      <td>NaN</td>\n",
       "      <td>...</td>\n",
       "      <td>reg</td>\n",
       "      <td>мм</td>\n",
       "      <td>rhymed</td>\n",
       "      <td>True</td>\n",
       "      <td>Ам4aa</td>\n",
       "      <td>двустишие</td>\n",
       "      <td>NaN</td>\n",
       "      <td>72</td>\n",
       "      <td>heterodiegetic</td>\n",
       "      <td>True</td>\n",
       "    </tr>\n",
       "    <tr>\n",
       "      <th>...</th>\n",
       "      <td>...</td>\n",
       "      <td>...</td>\n",
       "      <td>...</td>\n",
       "      <td>...</td>\n",
       "      <td>...</td>\n",
       "      <td>...</td>\n",
       "      <td>...</td>\n",
       "      <td>...</td>\n",
       "      <td>...</td>\n",
       "      <td>...</td>\n",
       "      <td>...</td>\n",
       "      <td>...</td>\n",
       "      <td>...</td>\n",
       "      <td>...</td>\n",
       "      <td>...</td>\n",
       "      <td>...</td>\n",
       "      <td>...</td>\n",
       "      <td>...</td>\n",
       "      <td>...</td>\n",
       "      <td>...</td>\n",
       "      <td>...</td>\n",
       "    </tr>\n",
       "    <tr>\n",
       "      <th>184</th>\n",
       "      <td>208_1849_Miller.txt</td>\n",
       "      <td>NaN</td>\n",
       "      <td>Миллер Ф. Б.</td>\n",
       "      <td>Мавританский князь</td>\n",
       "      <td>Дружину свою снарядил он на бой</td>\n",
       "      <td>баллада</td>\n",
       "      <td>Стихотворения Ф. Миллера. 1841-1849</td>\n",
       "      <td>М.</td>\n",
       "      <td>1849</td>\n",
       "      <td>NaN</td>\n",
       "      <td>...</td>\n",
       "      <td>reg</td>\n",
       "      <td>мммм</td>\n",
       "      <td>rhymed</td>\n",
       "      <td>True</td>\n",
       "      <td>Ам4aabb</td>\n",
       "      <td>катрен</td>\n",
       "      <td>NaN</td>\n",
       "      <td>80</td>\n",
       "      <td>heterodiegetic</td>\n",
       "      <td>True</td>\n",
       "    </tr>\n",
       "    <tr>\n",
       "      <th>185</th>\n",
       "      <td>209_1849_Miller.txt</td>\n",
       "      <td>NaN</td>\n",
       "      <td>Миллер Ф. Б.</td>\n",
       "      <td>Воздушный караван</td>\n",
       "      <td>Поздно ночью мы лежали на земле, среди равнины</td>\n",
       "      <td>NaN</td>\n",
       "      <td>Стихотворения Ф. Миллера. 1841-1850</td>\n",
       "      <td>М.</td>\n",
       "      <td>1849</td>\n",
       "      <td>NaN</td>\n",
       "      <td>...</td>\n",
       "      <td>reg</td>\n",
       "      <td>жжжж</td>\n",
       "      <td>rhymed</td>\n",
       "      <td>True</td>\n",
       "      <td>Х8AABB</td>\n",
       "      <td>катрен</td>\n",
       "      <td>NaN</td>\n",
       "      <td>40</td>\n",
       "      <td>homodiegetic</td>\n",
       "      <td>True</td>\n",
       "    </tr>\n",
       "    <tr>\n",
       "      <th>186</th>\n",
       "      <td>210_1849_Miller.txt</td>\n",
       "      <td>NaN</td>\n",
       "      <td>Миллер Ф. Б.</td>\n",
       "      <td>Ива</td>\n",
       "      <td>Хорошо в саду тенистом</td>\n",
       "      <td>баллада</td>\n",
       "      <td>Стихотворения Ф. Миллера. 1841-1851</td>\n",
       "      <td>М.</td>\n",
       "      <td>1849</td>\n",
       "      <td>NaN</td>\n",
       "      <td>...</td>\n",
       "      <td>reg</td>\n",
       "      <td>жжмжжм</td>\n",
       "      <td>rhymed</td>\n",
       "      <td>True</td>\n",
       "      <td>Х4AAbCCb</td>\n",
       "      <td>шестистишие</td>\n",
       "      <td>NaN</td>\n",
       "      <td>84</td>\n",
       "      <td>heterodiegetic</td>\n",
       "      <td>True</td>\n",
       "    </tr>\n",
       "    <tr>\n",
       "      <th>187</th>\n",
       "      <td>211_1846_Nekrasov.txt</td>\n",
       "      <td>NaN</td>\n",
       "      <td>Некрасов Н. А.</td>\n",
       "      <td>В дороге</td>\n",
       "      <td>Скучно! скучно!.. Ямщик удалой</td>\n",
       "      <td>NaN</td>\n",
       "      <td>Петербургский сборник, изданный Н. Некрасовым</td>\n",
       "      <td>СПб.</td>\n",
       "      <td>1846</td>\n",
       "      <td>NaN</td>\n",
       "      <td>...</td>\n",
       "      <td>reg</td>\n",
       "      <td>м-ж</td>\n",
       "      <td>unreg</td>\n",
       "      <td>False</td>\n",
       "      <td>unreg</td>\n",
       "      <td>вольная рифмовка</td>\n",
       "      <td>NaN</td>\n",
       "      <td>83</td>\n",
       "      <td>homodiegetic</td>\n",
       "      <td>True</td>\n",
       "    </tr>\n",
       "    <tr>\n",
       "      <th>188</th>\n",
       "      <td>212_1846_Nekrasov.txt</td>\n",
       "      <td>NaN</td>\n",
       "      <td>Некрасов Н. А.</td>\n",
       "      <td>Колыбельная песня (подражание Леромонтову)</td>\n",
       "      <td>Спи, пострел, пока безвредный!</td>\n",
       "      <td>NaN</td>\n",
       "      <td>Петербургский сборник, изданный Н. Некрасовым</td>\n",
       "      <td>СПб.</td>\n",
       "      <td>1847</td>\n",
       "      <td>NaN</td>\n",
       "      <td>...</td>\n",
       "      <td>reg</td>\n",
       "      <td>жмжмжмжм</td>\n",
       "      <td>rhymed</td>\n",
       "      <td>True</td>\n",
       "      <td>Х43AbAbCdCd</td>\n",
       "      <td>шестистишие</td>\n",
       "      <td>NaN</td>\n",
       "      <td>48</td>\n",
       "      <td>homodiegetic</td>\n",
       "      <td>True</td>\n",
       "    </tr>\n",
       "  </tbody>\n",
       "</table>\n",
       "<p>189 rows × 28 columns</p>\n",
       "</div>"
      ],
      "text/plain": [
       "                        id signature          author   \n",
       "0     1_1840_Alekseyev.txt       NaN   Алексеев П.Ф.  \\\n",
       "1     2_1840_Alekseyev.txt       NaN   Алексеев П.Ф.   \n",
       "2     3_1840_Alekseyev.txt       NaN   Алексеев П.Ф.   \n",
       "3     4_1840_Alekseyev.txt       NaN   Алексеев П.Ф.   \n",
       "4       5_1840_Demidov.txt       NaN   Демидов М. А.   \n",
       "..                     ...       ...             ...   \n",
       "184    208_1849_Miller.txt       NaN    Миллер Ф. Б.   \n",
       "185    209_1849_Miller.txt       NaN    Миллер Ф. Б.   \n",
       "186    210_1849_Miller.txt       NaN    Миллер Ф. Б.   \n",
       "187  211_1846_Nekrasov.txt       NaN  Некрасов Н. А.   \n",
       "188  212_1846_Nekrasov.txt       NaN  Некрасов Н. А.   \n",
       "\n",
       "                                          title   \n",
       "0                                        Могила  \\\n",
       "1                                         Наяда   \n",
       "2                                     Разбойник   \n",
       "3                                  Ночной ездок   \n",
       "4                                  Званые гости   \n",
       "..                                          ...   \n",
       "184                          Мавританский князь   \n",
       "185                           Воздушный караван   \n",
       "186                                         Ива   \n",
       "187                                    В дороге   \n",
       "188  Колыбельная песня (подражание Леромонтову)   \n",
       "\n",
       "                                         first_line genre_subtitle   \n",
       "0                              Во сыром бору могила        баллада  \\\n",
       "1                           В серебре живом каскада            NaN   \n",
       "2                         Ночь, чернее угля с сажей            NaN   \n",
       "3                           Над безмолвною пустыней        баллада   \n",
       "4                   Близ Ревеля рыцарь Гогаузен жил            NaN   \n",
       "..                                              ...            ...   \n",
       "184                 Дружину свою снарядил он на бой        баллада   \n",
       "185  Поздно ночью мы лежали на земле, среди равнины            NaN   \n",
       "186                          Хорошо в саду тенистом        баллада   \n",
       "187                  Скучно! скучно!.. Ямщик удалой            NaN   \n",
       "188                  Спи, пострел, пока безвредный!            NaN   \n",
       "\n",
       "                                           source_name  place  year volume   \n",
       "0    Лирические стихотворения и сказки П. Ф. Алексеева  Дерпт  1840    NaN  \\\n",
       "1    Лирические стихотворения и сказки П. Ф. Алексеева  Дерпт  1840    NaN   \n",
       "2    Лирические стихотворения и сказки П. Ф. Алексеева  Дерпт  1840    NaN   \n",
       "3    Лирические стихотворения и сказки П. Ф. Алексеева  Дерпт  1840    NaN   \n",
       "4    Дельные безделки. Стихотворения М. Демидова. В...     М.  1840    NaN   \n",
       "..                                                 ...    ...   ...    ...   \n",
       "184                Стихотворения Ф. Миллера. 1841-1849     М.  1849    NaN   \n",
       "185                Стихотворения Ф. Миллера. 1841-1850     М.  1849    NaN   \n",
       "186                Стихотворения Ф. Миллера. 1841-1851     М.  1849    NaN   \n",
       "187      Петербургский сборник, изданный Н. Некрасовым   СПб.  1846    NaN   \n",
       "188      Петербургский сборник, изданный Н. Некрасовым   СПб.  1847    NaN   \n",
       "\n",
       "     ... regularity     claus   rhyme graphic_stanzas stanza_model   \n",
       "0    ...        reg      жжмм  rhymed            True       Х4AAbb  \\\n",
       "1    ...        reg    жжмжжм  rhymed           False     Х4AAbCCb   \n",
       "2    ...        reg       ж-м  rhymed           False        unreg   \n",
       "3    ...        reg      жмжм  rhymed            True       Х4AbAb   \n",
       "4    ...        reg        мм  rhymed            True        Ам4aa   \n",
       "..   ...        ...       ...     ...             ...          ...   \n",
       "184  ...        reg      мммм  rhymed            True      Ам4aabb   \n",
       "185  ...        reg      жжжж  rhymed            True       Х8AABB   \n",
       "186  ...        reg    жжмжжм  rhymed            True     Х4AAbCCb   \n",
       "187  ...        reg       м-ж   unreg           False        unreg   \n",
       "188  ...        reg  жмжмжмжм  rhymed            True  Х43AbAbCdCd   \n",
       "\n",
       "          stanza_type            other nlines        narrator dir_speech  \n",
       "0              катрен              NaN     44  heterodiegetic       True  \n",
       "1         шестистишие              NaN     12    homodiegetic      False  \n",
       "2    вольная рифмовка              NaN     42  heterodiegetic       True  \n",
       "3              катрен  рефрен (строфы)     36  heterodiegetic      False  \n",
       "4           двустишие              NaN     72  heterodiegetic       True  \n",
       "..                ...              ...    ...             ...        ...  \n",
       "184            катрен              NaN     80  heterodiegetic       True  \n",
       "185            катрен              NaN     40    homodiegetic       True  \n",
       "186       шестистишие              NaN     84  heterodiegetic       True  \n",
       "187  вольная рифмовка              NaN     83    homodiegetic       True  \n",
       "188       шестистишие              NaN     48    homodiegetic       True  \n",
       "\n",
       "[189 rows x 28 columns]"
      ]
     },
     "execution_count": 24,
     "metadata": {},
     "output_type": "execute_result"
    }
   ],
   "source": [
    "data=pd.read_csv('ballads40_metadata.tsv',sep='\\t')\n",
    "data"
   ]
  },
  {
   "cell_type": "code",
   "execution_count": 25,
   "id": "ab7a43e7",
   "metadata": {},
   "outputs": [
    {
     "data": {
      "text/plain": [
       "count    189.000000\n",
       "mean      58.820106\n",
       "std       56.182353\n",
       "min       10.000000\n",
       "25%       28.000000\n",
       "50%       44.000000\n",
       "75%       70.000000\n",
       "max      408.000000\n",
       "Name: nlines, dtype: float64"
      ]
     },
     "execution_count": 25,
     "metadata": {},
     "output_type": "execute_result"
    }
   ],
   "source": [
    "data[\"nlines\"].describe()"
   ]
  },
  {
   "attachments": {},
   "cell_type": "markdown",
   "id": "d1a73e2c",
   "metadata": {},
   "source": [
    "Количество баллад, написанных в каждый год выборки"
   ]
  },
  {
   "cell_type": "code",
   "execution_count": 26,
   "id": "9acf4960",
   "metadata": {},
   "outputs": [
    {
     "data": {
      "text/plain": [
       "year\n",
       "1840    35\n",
       "1841    33\n",
       "1842    25\n",
       "1846    16\n",
       "1847    16\n",
       "1850    14\n",
       "1843    13\n",
       "1844    12\n",
       "1845    10\n",
       "1848     9\n",
       "1849     6\n",
       "Name: count, dtype: int64"
      ]
     },
     "execution_count": 26,
     "metadata": {},
     "output_type": "execute_result"
    }
   ],
   "source": [
    "years_mode = data['year'].value_counts()\n",
    "years_mode"
   ]
  },
  {
   "attachments": {},
   "cell_type": "markdown",
   "id": "8424ecf6",
   "metadata": {},
   "source": [
    "Столбсчатая диаграмма, отражающая данные выше (количество баллад, написанных в каждый год). Очевидна явная отрицательная тенденция."
   ]
  },
  {
   "cell_type": "code",
   "execution_count": 27,
   "id": "d58a59c0",
   "metadata": {},
   "outputs": [
    {
     "data": {
      "text/plain": [
       "<Axes: xlabel='year'>"
      ]
     },
     "execution_count": 27,
     "metadata": {},
     "output_type": "execute_result"
    },
    {
     "data": {
      "image/png": "[encoded data removed]",
      "text/plain": [
       "<Figure size 640x480 with 1 Axes>"
      ]
     },
     "metadata": {},
     "output_type": "display_data"
    }
   ],
   "source": [
    "years_mode.plot(kind=\"bar\")"
   ]
  },
  {
   "attachments": {},
   "cell_type": "markdown",
   "id": "8bb6b5ae",
   "metadata": {},
   "source": [
    "Среднее количество строк в балладах в каждый год. В целом, длина произведений относительно стабильна за исключением 1844 (из-за выброса) и 1850 года (когда популярность баллад крайне низка вообще)."
   ]
  },
  {
   "cell_type": "code",
   "execution_count": 28,
   "id": "8874b0a5",
   "metadata": {},
   "outputs": [
    {
     "data": {
      "text/plain": [
       "year\n",
       "1840    63.714286\n",
       "1841    57.606061\n",
       "1842    55.360000\n",
       "1843    63.384615\n",
       "1844    93.250000\n",
       "1845    44.000000\n",
       "1846    50.250000\n",
       "1847    55.000000\n",
       "1848    61.666667\n",
       "1849    69.666667\n",
       "1850    40.142857\n",
       "Name: nlines, dtype: float64"
      ]
     },
     "execution_count": 28,
     "metadata": {},
     "output_type": "execute_result"
    }
   ],
   "source": [
    "years_lines_average = data.groupby(\"year\")[\"nlines\"].mean()\n",
    "years_lines_average"
   ]
  },
  {
   "attachments": {},
   "cell_type": "markdown",
   "id": "82320400",
   "metadata": {},
   "source": [
    "Диаграмма рассеяния, на которой явно видны выбросы."
   ]
  },
  {
   "cell_type": "code",
   "execution_count": 29,
   "id": "a8bc1197",
   "metadata": {},
   "outputs": [
    {
     "data": {
      "text/plain": [
       "<Axes: xlabel='year', ylabel='nlines'>"
      ]
     },
     "execution_count": 29,
     "metadata": {},
     "output_type": "execute_result"
    },
    {
     "data": {
      "image/png": "[encoded data removed]",
      "text/plain": [
       "<Figure size 640x480 with 1 Axes>"
      ]
     },
     "metadata": {},
     "output_type": "display_data"
    }
   ],
   "source": [
    "data.plot('year', 'nlines', kind='scatter')"
   ]
  },
  {
   "attachments": {},
   "cell_type": "markdown",
   "id": "e39861dd",
   "metadata": {},
   "source": [
    "Таблица, которая отображает список текстов-выбросов. За выбросы принимаем те тексты, в которых более 200 строк."
   ]
  },
  {
   "cell_type": "code",
   "execution_count": 30,
   "id": "622c4e56",
   "metadata": {},
   "outputs": [
    {
     "data": {
      "text/html": [
       "<div>\n",
       "<style scoped>\n",
       "    .dataframe tbody tr th:only-of-type {\n",
       "        vertical-align: middle;\n",
       "    }\n",
       "\n",
       "    .dataframe tbody tr th {\n",
       "        vertical-align: top;\n",
       "    }\n",
       "\n",
       "    .dataframe thead th {\n",
       "        text-align: right;\n",
       "    }\n",
       "</style>\n",
       "<table border=\"1\" class=\"dataframe\">\n",
       "  <thead>\n",
       "    <tr style=\"text-align: right;\">\n",
       "      <th></th>\n",
       "      <th>id</th>\n",
       "      <th>signature</th>\n",
       "      <th>author</th>\n",
       "      <th>title</th>\n",
       "      <th>first_line</th>\n",
       "      <th>genre_subtitle</th>\n",
       "      <th>source_name</th>\n",
       "      <th>place</th>\n",
       "      <th>year</th>\n",
       "      <th>volume</th>\n",
       "      <th>...</th>\n",
       "      <th>regularity</th>\n",
       "      <th>claus</th>\n",
       "      <th>rhyme</th>\n",
       "      <th>graphic_stanzas</th>\n",
       "      <th>stanza_model</th>\n",
       "      <th>stanza_type</th>\n",
       "      <th>other</th>\n",
       "      <th>nlines</th>\n",
       "      <th>narrator</th>\n",
       "      <th>dir_speech</th>\n",
       "    </tr>\n",
       "  </thead>\n",
       "  <tbody>\n",
       "    <tr>\n",
       "      <th>21</th>\n",
       "      <td>24_1840_Papkevich.txt</td>\n",
       "      <td>NaN</td>\n",
       "      <td>Папкевич А.</td>\n",
       "      <td>Цветы</td>\n",
       "      <td>Небывалая вина</td>\n",
       "      <td>Баллада из простонародного рассказа</td>\n",
       "      <td>Стихотворения А. Папкевича</td>\n",
       "      <td>СПб.</td>\n",
       "      <td>1840</td>\n",
       "      <td>NaN</td>\n",
       "      <td>...</td>\n",
       "      <td>reg</td>\n",
       "      <td>ммжж</td>\n",
       "      <td>rhymed</td>\n",
       "      <td>False</td>\n",
       "      <td>Х4aaBB</td>\n",
       "      <td>четверостишие</td>\n",
       "      <td>NaN</td>\n",
       "      <td>382</td>\n",
       "      <td>heterodiegetic</td>\n",
       "      <td>True</td>\n",
       "    </tr>\n",
       "    <tr>\n",
       "      <th>32</th>\n",
       "      <td>36_1841_Sokolova.txt</td>\n",
       "      <td>NaN</td>\n",
       "      <td>Соколова Т.</td>\n",
       "      <td>Эдвин и Лора</td>\n",
       "      <td>Страстью отрадно</td>\n",
       "      <td>Баллада</td>\n",
       "      <td>Стихотворения Таисии Соколовой. Ч. 2</td>\n",
       "      <td>М.</td>\n",
       "      <td>1841</td>\n",
       "      <td>NaN</td>\n",
       "      <td>...</td>\n",
       "      <td>reg</td>\n",
       "      <td>ж-м</td>\n",
       "      <td>rhymed</td>\n",
       "      <td>True</td>\n",
       "      <td>unreg</td>\n",
       "      <td>вольная рифмовка с холостыми</td>\n",
       "      <td>NaN</td>\n",
       "      <td>320</td>\n",
       "      <td>heterodiegetic</td>\n",
       "      <td>True</td>\n",
       "    </tr>\n",
       "    <tr>\n",
       "      <th>46</th>\n",
       "      <td>53_1842_Molchanov.txt</td>\n",
       "      <td>NaN</td>\n",
       "      <td>Молчанов Н.</td>\n",
       "      <td>Виктор и Георгина или Урна в бору</td>\n",
       "      <td>Не узнает никто, я как сокол примчусь</td>\n",
       "      <td>NaN</td>\n",
       "      <td>Стихотворения Николая Молчанова : Т. 1</td>\n",
       "      <td>СПб.</td>\n",
       "      <td>1842</td>\n",
       "      <td>NaN</td>\n",
       "      <td>...</td>\n",
       "      <td>unreg</td>\n",
       "      <td>м</td>\n",
       "      <td>rhymed</td>\n",
       "      <td>False</td>\n",
       "      <td>unreg</td>\n",
       "      <td>вольная рифмовка</td>\n",
       "      <td>NaN</td>\n",
       "      <td>217</td>\n",
       "      <td>mixed</td>\n",
       "      <td>True</td>\n",
       "    </tr>\n",
       "    <tr>\n",
       "      <th>55</th>\n",
       "      <td>63_1843_Zhmakin.txt</td>\n",
       "      <td>NaN</td>\n",
       "      <td>Жмакин В.А.</td>\n",
       "      <td>Гирей</td>\n",
       "      <td>Полнеба тучами покрылось</td>\n",
       "      <td>Киевский рассказ</td>\n",
       "      <td>Часы досуга: Стихотворения В. Жмакина</td>\n",
       "      <td>Казань</td>\n",
       "      <td>1843</td>\n",
       "      <td>NaN</td>\n",
       "      <td>...</td>\n",
       "      <td>reg</td>\n",
       "      <td>ж-м</td>\n",
       "      <td>rhymed</td>\n",
       "      <td>False</td>\n",
       "      <td>unreg</td>\n",
       "      <td>четверостишие</td>\n",
       "      <td>AbAb/aBBa/AbbA</td>\n",
       "      <td>220</td>\n",
       "      <td>heterodiegetic</td>\n",
       "      <td>True</td>\n",
       "    </tr>\n",
       "    <tr>\n",
       "      <th>139</th>\n",
       "      <td>149_1842_Pavlova.txt</td>\n",
       "      <td>К. П–ва</td>\n",
       "      <td>Павлова К. К.</td>\n",
       "      <td>Рудокоп</td>\n",
       "      <td>В подземной тьме, в тиши глубокой</td>\n",
       "      <td>NaN</td>\n",
       "      <td>Москвитянин</td>\n",
       "      <td>М.</td>\n",
       "      <td>1842</td>\n",
       "      <td>Ч.1</td>\n",
       "      <td>...</td>\n",
       "      <td>reg</td>\n",
       "      <td>unreg</td>\n",
       "      <td>unreg</td>\n",
       "      <td>False</td>\n",
       "      <td>Я4AbAb (unreg)</td>\n",
       "      <td>четверостишие + встречаются холостые</td>\n",
       "      <td>NaN</td>\n",
       "      <td>236</td>\n",
       "      <td>heterodiegetic</td>\n",
       "      <td>True</td>\n",
       "    </tr>\n",
       "    <tr>\n",
       "      <th>164</th>\n",
       "      <td>182_1844_Sushkov.txt</td>\n",
       "      <td>Н. Сушков</td>\n",
       "      <td>Сушков Н. В.</td>\n",
       "      <td>Сны и толки</td>\n",
       "      <td>В стары годы стиходей</td>\n",
       "      <td>Баллада. Посвящается В. А. Жуковскому</td>\n",
       "      <td>Москвитянин</td>\n",
       "      <td>М.</td>\n",
       "      <td>1844</td>\n",
       "      <td>Ч.4</td>\n",
       "      <td>...</td>\n",
       "      <td>reg</td>\n",
       "      <td>мжмж</td>\n",
       "      <td>rhymed</td>\n",
       "      <td>False</td>\n",
       "      <td>Х43aBaB</td>\n",
       "      <td>четверостишие</td>\n",
       "      <td>NaN</td>\n",
       "      <td>408</td>\n",
       "      <td>heterodiegetic</td>\n",
       "      <td>True</td>\n",
       "    </tr>\n",
       "    <tr>\n",
       "      <th>181</th>\n",
       "      <td>205_1840_Prokopovich.txt</td>\n",
       "      <td>Н. Прокопович</td>\n",
       "      <td>Прокопович Н. Я.</td>\n",
       "      <td>Граф Конрад и его жена</td>\n",
       "      <td>Рыцарь! Солнце взошло</td>\n",
       "      <td>Баллада</td>\n",
       "      <td>Современник</td>\n",
       "      <td>СПб.</td>\n",
       "      <td>1840</td>\n",
       "      <td>XIX</td>\n",
       "      <td>...</td>\n",
       "      <td>reg</td>\n",
       "      <td>ммжммж</td>\n",
       "      <td>rhymed</td>\n",
       "      <td>True</td>\n",
       "      <td>Ан334334aaBccB</td>\n",
       "      <td>шестистишие</td>\n",
       "      <td>NaN</td>\n",
       "      <td>210</td>\n",
       "      <td>heterodiegetic</td>\n",
       "      <td>True</td>\n",
       "    </tr>\n",
       "  </tbody>\n",
       "</table>\n",
       "<p>7 rows × 28 columns</p>\n",
       "</div>"
      ],
      "text/plain": [
       "                           id      signature            author   \n",
       "21      24_1840_Papkevich.txt            NaN       Папкевич А.  \\\n",
       "32       36_1841_Sokolova.txt            NaN       Соколова Т.   \n",
       "46      53_1842_Molchanov.txt            NaN       Молчанов Н.   \n",
       "55        63_1843_Zhmakin.txt            NaN       Жмакин В.А.   \n",
       "139      149_1842_Pavlova.txt        К. П–ва     Павлова К. К.   \n",
       "164      182_1844_Sushkov.txt      Н. Сушков      Сушков Н. В.   \n",
       "181  205_1840_Prokopovich.txt  Н. Прокопович  Прокопович Н. Я.   \n",
       "\n",
       "                                 title                             first_line   \n",
       "21                               Цветы                         Небывалая вина  \\\n",
       "32                        Эдвин и Лора                       Страстью отрадно   \n",
       "46   Виктор и Георгина или Урна в бору  Не узнает никто, я как сокол примчусь   \n",
       "55                               Гирей               Полнеба тучами покрылось   \n",
       "139                            Рудокоп      В подземной тьме, в тиши глубокой   \n",
       "164                        Сны и толки                  В стары годы стиходей   \n",
       "181             Граф Конрад и его жена                  Рыцарь! Солнце взошло   \n",
       "\n",
       "                            genre_subtitle   \n",
       "21     Баллада из простонародного рассказа  \\\n",
       "32                                 Баллада   \n",
       "46                                     NaN   \n",
       "55                        Киевский рассказ   \n",
       "139                                    NaN   \n",
       "164  Баллада. Посвящается В. А. Жуковскому   \n",
       "181                                Баллада   \n",
       "\n",
       "                                source_name   place  year volume  ...   \n",
       "21               Стихотворения А. Папкевича    СПб.  1840    NaN  ...  \\\n",
       "32     Стихотворения Таисии Соколовой. Ч. 2      М.  1841    NaN  ...   \n",
       "46   Стихотворения Николая Молчанова : Т. 1    СПб.  1842    NaN  ...   \n",
       "55    Часы досуга: Стихотворения В. Жмакина  Казань  1843    NaN  ...   \n",
       "139                             Москвитянин      М.  1842    Ч.1  ...   \n",
       "164                             Москвитянин      М.  1844    Ч.4  ...   \n",
       "181                             Современник    СПб.  1840    XIX  ...   \n",
       "\n",
       "    regularity   claus   rhyme graphic_stanzas    stanza_model   \n",
       "21         reg    ммжж  rhymed           False          Х4aaBB  \\\n",
       "32         reg     ж-м  rhymed            True           unreg   \n",
       "46       unreg       м  rhymed           False           unreg   \n",
       "55         reg     ж-м  rhymed           False           unreg   \n",
       "139        reg   unreg   unreg           False  Я4AbAb (unreg)   \n",
       "164        reg    мжмж  rhymed           False         Х43aBaB   \n",
       "181        reg  ммжммж  rhymed            True  Ан334334aaBccB   \n",
       "\n",
       "                              stanza_type           other nlines   \n",
       "21                          четверостишие             NaN    382  \\\n",
       "32           вольная рифмовка с холостыми             NaN    320   \n",
       "46                       вольная рифмовка             NaN    217   \n",
       "55                          четверостишие  AbAb/aBBa/AbbA    220   \n",
       "139  четверостишие + встречаются холостые             NaN    236   \n",
       "164                         четверостишие             NaN    408   \n",
       "181                           шестистишие             NaN    210   \n",
       "\n",
       "           narrator dir_speech  \n",
       "21   heterodiegetic       True  \n",
       "32   heterodiegetic       True  \n",
       "46            mixed       True  \n",
       "55   heterodiegetic       True  \n",
       "139  heterodiegetic       True  \n",
       "164  heterodiegetic       True  \n",
       "181  heterodiegetic       True  \n",
       "\n",
       "[7 rows x 28 columns]"
      ]
     },
     "execution_count": 30,
     "metadata": {},
     "output_type": "execute_result"
    }
   ],
   "source": [
    "data[data['nlines']>200]"
   ]
  },
  {
   "attachments": {},
   "cell_type": "markdown",
   "id": "da425138",
   "metadata": {},
   "source": [
    "Данные с авторскими жанровыми подзаголовками. Из-за странной разметки данных \"баллада\" дублируется в таблице, но очевидно, что жанровое определение \"баллада\" преобладает"
   ]
  },
  {
   "cell_type": "code",
   "execution_count": 31,
   "id": "fe9ada5b",
   "metadata": {},
   "outputs": [
    {
     "data": {
      "text/plain": [
       "genre_subtitle\n",
       "баллада                                        12\n",
       "Баллада                                         6\n",
       "Баллады/ ПСС баллады                            6\n",
       "Баллады                                         5\n",
       "Баллада и рассказ                               4\n",
       "1850разд. Разные стихотворения/ Баллады ПСС     1\n",
       "Киевский рассказ                                1\n",
       "романс                                          1\n",
       "разд. Лирические стихотворения                  1\n",
       "предание                                        1\n",
       "Украинская баллада                              1\n",
       "Скандинавская баллада                           1\n",
       "Романс                                          1\n",
       "Малороссийское предание                         1\n",
       "Из баллад Фогля                                 1\n",
       "Кавказская легенда                              1\n",
       "1850разд. Разные стихотворения/Баллады ПСС      1\n",
       "Баллада Вальтера Скотта                         1\n",
       "Баллада. Посвящается В. А. Жуковскому           1\n",
       "Баллада-фантазия                                1\n",
       "Баллада из простонародного рассказа             1\n",
       "Баллада барона Мальтица                         1\n",
       "Баллада (Подражание Уланду)                     1\n",
       "сказка                                          1\n",
       "Name: count, dtype: int64"
      ]
     },
     "execution_count": 31,
     "metadata": {},
     "output_type": "execute_result"
    }
   ],
   "source": [
    "genre = data.value_counts(\"genre_subtitle\")\n",
    "genre"
   ]
  },
  {
   "attachments": {},
   "cell_type": "markdown",
   "id": "af3e0470",
   "metadata": {},
   "source": [
    "Данные по типу строфы в приведенных в датасете балладах. Опять же, разметка этого датасета подводит: \"катрен\" и \"четверостишие\" - синонимы. Тем не менее, очевидно преобладание четверостишия в строфике баллад (как и в поэзии XIX века в принципе)."
   ]
  },
  {
   "cell_type": "code",
   "execution_count": 32,
   "id": "5ec4a3af",
   "metadata": {},
   "outputs": [
    {
     "data": {
      "text/plain": [
       "stanza_type\n",
       "катрен                                  54\n",
       "четверостишие                           44\n",
       "шестистишие                             16\n",
       "двустишие                               12\n",
       "вольная рифмовка                        11\n",
       "unreg                                    9\n",
       "восьмистишие графически                  7\n",
       "пятистишие                               3\n",
       "десятистишие                             3\n",
       "свободные строфы                         3\n",
       "трехстишие                               2\n",
       "восьмистишие плюс двустишие              2\n",
       "восьмистишие                             2\n",
       "вольная рифмовка с холостыми             2\n",
       "четверостишие+вольная римовка            1\n",
       "катрен+шестистишие                       1\n",
       "семистишие                               1\n",
       "четверостишие + встречаются холостые     1\n",
       "графически 12 и 10 строк                 1\n",
       "четверостишие графически                 1\n",
       "четверостишие с обрамлением              1\n",
       "двенадцатистишие графически              1\n",
       "пятистишие гарфически                    1\n",
       "девятистишие                             1\n",
       "четверостишие+unreg                      1\n",
       "четверостишие+двустишие                  1\n",
       "катрен+вольная рифмовка                  1\n",
       "четевростишие                            1\n",
       "графически 12 строк+2 рефрен             1\n",
       "восьмистишие + катрен                    1\n",
       "восьмистишие +вольная рифмовка           1\n",
       "графически объединены 10 сторк           1\n",
       "двенадцатистишие                         1\n",
       "Name: count, dtype: int64"
      ]
     },
     "execution_count": 32,
     "metadata": {},
     "output_type": "execute_result"
    }
   ],
   "source": [
    "stanza = data[\"stanza_type\"].value_counts()\n",
    "stanza"
   ]
  },
  {
   "attachments": {},
   "cell_type": "markdown",
   "id": "8759a3e7",
   "metadata": {},
   "source": [
    "Данные по типу размера в датасете баллад. На первом месте - хорей как признанно \"народный\" \\ \"фольклорный\" размер. Интересно, что на втором месте - амфибрахий, нетипичный для русской поэзии этого времени размер, что скорее указывает на ориентацию авторов баллад на европейскую поэтическую традицию."
   ]
  },
  {
   "cell_type": "code",
   "execution_count": 33,
   "id": "3cf7ddfa",
   "metadata": {},
   "outputs": [
    {
     "data": {
      "text/plain": [
       "meter\n",
       "Х       71\n",
       "Ам      38\n",
       "Я       36\n",
       "Ан      15\n",
       "ПМК     12\n",
       "ПМФ      5\n",
       "Д        4\n",
       "Псл      4\n",
       "ТПА      3\n",
       "Эрр.     1\n",
       "Name: count, dtype: int64"
      ]
     },
     "execution_count": 33,
     "metadata": {},
     "output_type": "execute_result"
    }
   ],
   "source": [
    "meter = data[\"meter\"].value_counts()\n",
    "meter"
   ]
  },
  {
   "attachments": {},
   "cell_type": "markdown",
   "id": "b0907988",
   "metadata": {},
   "source": [
    "Данные с распределением мест публикации баллад. Ожидаемо, лидируют два литературных центра - Москва и Санкт-Петербург."
   ]
  },
  {
   "cell_type": "code",
   "execution_count": 34,
   "id": "ef9d6704",
   "metadata": {},
   "outputs": [
    {
     "data": {
      "text/plain": [
       "place\n",
       "СПб.       82\n",
       "М.         81\n",
       "Полтава     5\n",
       "Вильно      4\n",
       "Дерпт       4\n",
       "Киев        4\n",
       "Одесса      4\n",
       "Харьков     3\n",
       "Воронеж     1\n",
       "Казань      1\n",
       "Name: count, dtype: int64"
      ]
     },
     "execution_count": 34,
     "metadata": {},
     "output_type": "execute_result"
    }
   ],
   "source": [
    "cities = data.value_counts(\"place\")\n",
    "cities"
   ]
  },
  {
   "attachments": {},
   "cell_type": "markdown",
   "id": "320d689e",
   "metadata": {},
   "source": [
    "Данные о окончаниях (клаузулах и типах рифмовок) в балладах. В очередной раз наиболее частым оказывается наиболее характерное для поэзии времени явление - перекрестная рифмовка с чередованием мужской и женской клаузул (правило альтернанса)."
   ]
  },
  {
   "cell_type": "code",
   "execution_count": 35,
   "id": "e5596f3d",
   "metadata": {},
   "outputs": [
    {
     "data": {
      "text/plain": [
       "claus\n",
       "жмжм        59\n",
       "ж-м         13\n",
       "мммм        13\n",
       "мжмж        12\n",
       "мм          10\n",
       "жжжж         8\n",
       "м-ж          8\n",
       "ммжммж       6\n",
       "ммжж         6\n",
       "unreg        6\n",
       "жжмжжм       4\n",
       "жмжмжмжм     3\n",
       "жжмм         2\n",
       "ж            2\n",
       "дмдм         2\n",
       "Name: count, dtype: int64"
      ]
     },
     "execution_count": 35,
     "metadata": {},
     "output_type": "execute_result"
    }
   ],
   "source": [
    "clausule = data[\"claus\"].value_counts()\n",
    "clausule.head(15)"
   ]
  },
  {
   "attachments": {},
   "cell_type": "markdown",
   "id": "f30ad8ee",
   "metadata": {},
   "source": [
    "Данные о рифме. Как ни странно, стихи в основном римфованные >:-("
   ]
  },
  {
   "cell_type": "code",
   "execution_count": 36,
   "id": "210cf5ad",
   "metadata": {},
   "outputs": [
    {
     "data": {
      "text/plain": [
       "rhyme\n",
       "rhymed      153\n",
       "unreg        25\n",
       "unrhymed     11\n",
       "Name: count, dtype: int64"
      ]
     },
     "execution_count": 36,
     "metadata": {},
     "output_type": "execute_result"
    }
   ],
   "source": [
    "rifma = data[\"rhyme\"].value_counts()\n",
    "rifma"
   ]
  },
  {
   "attachments": {},
   "cell_type": "markdown",
   "id": "629465b8",
   "metadata": {},
   "source": [
    "Данные о типах строф с учетом размера, рифмовки и рифмы. Аналогичное объяснение см. выше."
   ]
  },
  {
   "cell_type": "code",
   "execution_count": 37,
   "id": "1e4ec5b2",
   "metadata": {},
   "outputs": [
    {
     "data": {
      "text/plain": [
       "stanza_model\n",
       "unreg            34\n",
       "Х4AbAb           23\n",
       "Я4AbAb            6\n",
       "Х4AAbCCb          4\n",
       "Х6aa              4\n",
       "Ам3ObOb           4\n",
       "Я4aBaB            4\n",
       "Х43AbAb           3\n",
       "Х443443aaBccB     3\n",
       "Х4ObOb            3\n",
       "Ам3AbAb           3\n",
       "Ам43AbAb          3\n",
       "Ам4AbAb           3\n",
       "Ам4aa             3\n",
       "Х4ABAB            3\n",
       "Name: count, dtype: int64"
      ]
     },
     "execution_count": 37,
     "metadata": {},
     "output_type": "execute_result"
    }
   ],
   "source": [
    "stanza_mode = data[\"stanza_model\"].value_counts()\n",
    "stanza_mode.head(15)"
   ]
  },
  {
   "attachments": {},
   "cell_type": "markdown",
   "id": "f7a3fd5a",
   "metadata": {},
   "source": [
    "Данные о наличии прямой речи в балладах. Поскольку баллада как жанр основана диалоге, закономерно, что прямая речь встречается чаще ее отсутствия."
   ]
  },
  {
   "cell_type": "code",
   "execution_count": 38,
   "id": "4b4cbc10",
   "metadata": {},
   "outputs": [
    {
     "data": {
      "text/plain": [
       "dir_speech\n",
       "True     120\n",
       "False     69\n",
       "Name: count, dtype: int64"
      ]
     },
     "execution_count": 38,
     "metadata": {},
     "output_type": "execute_result"
    }
   ],
   "source": [
    "direct = data[\"dir_speech\"].value_counts()\n",
    "direct"
   ]
  },
  {
   "attachments": {},
   "cell_type": "markdown",
   "id": "4b8254b1",
   "metadata": {},
   "source": [
    "Данные о типе нарративной структуре (фокализации) в балладах. В основном в текстах представлен т. н. повествователь, а не рассказчик. Это связано с характерным для баллад образом вовлеченного автора."
   ]
  },
  {
   "cell_type": "code",
   "execution_count": 39,
   "id": "2333f4cb",
   "metadata": {},
   "outputs": [
    {
     "data": {
      "text/plain": [
       "narrator\n",
       "heterodiegetic    90\n",
       "homodiegetic      23\n",
       "mixed              7\n",
       "Name: dir_speech, dtype: int64"
      ]
     },
     "execution_count": 39,
     "metadata": {},
     "output_type": "execute_result"
    }
   ],
   "source": [
    "speech_type = data.groupby(\"narrator\")[\"dir_speech\"].sum()\n",
    "speech_type"
   ]
  },
  {
   "attachments": {},
   "cell_type": "markdown",
   "id": "2277e4ec",
   "metadata": {},
   "source": [
    "Данные о распределении авторов в балладах."
   ]
  },
  {
   "cell_type": "code",
   "execution_count": 40,
   "id": "60b9b6db",
   "metadata": {},
   "outputs": [
    {
     "data": {
      "text/plain": [
       "author\n",
       "Фет А. А.             17\n",
       "Миллер Ф. Б.          15\n",
       "Лермонтов М. Ю.       10\n",
       "Некрасов Н. А.         8\n",
       "Павлова К. К.          6\n",
       "Глебов Л. И.           5\n",
       "Струговщиков А. Н.     5\n",
       "Соколова Т.            5\n",
       "Чернов П.              4\n",
       "Красов  В. И.          4\n",
       "Name: count, dtype: int64"
      ]
     },
     "execution_count": 40,
     "metadata": {},
     "output_type": "execute_result"
    }
   ],
   "source": [
    "authors = data[\"author\"].value_counts()\n",
    "authors.head(10)"
   ]
  },
  {
   "attachments": {},
   "cell_type": "markdown",
   "id": "d1fb10d7",
   "metadata": {},
   "source": [
    "Данные о распределении неканонических \\ канонических авторов в балладах. В основном в корпус вошли тексты периферийных авторов. Однако, на наш взгляд, определение некоторых авторов как \"каноничных\" кажется нам необоснованным."
   ]
  },
  {
   "cell_type": "code",
   "execution_count": 41,
   "id": "9ec41621",
   "metadata": {},
   "outputs": [
    {
     "data": {
      "text/plain": [
       "canon_or_not\n",
       "periphery    81\n",
       "canon        63\n",
       "BP           45\n",
       "Name: count, dtype: int64"
      ]
     },
     "execution_count": 41,
     "metadata": {},
     "output_type": "execute_result"
    }
   ],
   "source": [
    "canon = data['canon_or_not'].value_counts()\n",
    "canon"
   ]
  }
 ],
 "metadata": {
  "kernelspec": {
   "display_name": "Python 3 (ipykernel)",
   "language": "python",
   "name": "python3"
  },
  "language_info": {
   "codemirror_mode": {
    "name": "ipython",
    "version": 3
   },
   "file_extension": ".py",
   "mimetype": "text/x-python",
   "name": "python",
   "nbconvert_exporter": "python",
   "pygments_lexer": "ipython3",
   "version": "3.10.11"
  }
 },
 "nbformat": 4,
 "nbformat_minor": 5
}
